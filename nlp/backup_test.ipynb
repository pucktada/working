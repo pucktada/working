{
 "cells": [
  {
   "cell_type": "code",
   "execution_count": 16,
   "id": "2f905847",
   "metadata": {},
   "outputs": [],
   "source": [
    "import torch\n",
    "from datasets import load_dataset, DatasetDict\n",
    "import pytorch_lightning as pl\n",
    "from torch.utils.data import random_split"
   ]
  },
  {
   "cell_type": "code",
   "execution_count": 2,
   "id": "f47be875",
   "metadata": {},
   "outputs": [
    {
     "name": "stderr",
     "output_type": "stream",
     "text": [
      "Reusing dataset imdb (/Users/pucktada/.cache/huggingface/datasets/imdb/plain_text/1.0.0/2fdd8b9bcadd6e7055e742a706876ba43f19faee861df134affd7a3f60fc38a1)\n"
     ]
    },
    {
     "data": {
      "application/vnd.jupyter.widget-view+json": {
       "model_id": "1d622cdab72e4505a143784b3ed98d73",
       "version_major": 2,
       "version_minor": 0
      },
      "text/plain": [
       "  0%|          | 0/3 [00:00<?, ?it/s]"
      ]
     },
     "metadata": {},
     "output_type": "display_data"
    }
   ],
   "source": [
    "imdb = load_dataset(\"imdb\")"
   ]
  },
  {
   "cell_type": "code",
   "execution_count": 13,
   "id": "94c4b5f0",
   "metadata": {},
   "outputs": [],
   "source": [
    "imdb_train, imdb_val = random_split(imdb['train'], [20000, 5000])"
   ]
  },
  {
   "cell_type": "code",
   "execution_count": 2,
   "id": "3e76a1d7",
   "metadata": {},
   "outputs": [],
   "source": [
    "MAX_LEN = 256\n",
    "NUM_LABELS = 2"
   ]
  },
  {
   "cell_type": "code",
   "execution_count": 3,
   "id": "e48a0d71",
   "metadata": {},
   "outputs": [],
   "source": [
    "from transformers import BertTokenizer\n",
    "\n",
    "tokenizer = BertTokenizer.from_pretrained(\"bert-base-uncased\", do_lower_case=True)\n",
    "text = \"Hello NLP lovers!\"\n",
    "inputs = tokenizer.encode_plus(text, add_special_tokens=True, max_length=MAX_LEN, truncation=True)\n",
    "input_ids, token_type_ids = inputs[\"input_ids\"], inputs[\"token_type_ids\"]"
   ]
  },
  {
   "cell_type": "code",
   "execution_count": 4,
   "id": "3c4eb0c1",
   "metadata": {},
   "outputs": [
    {
     "data": {
      "text/plain": [
       "[101, 7592, 17953, 2361, 10205, 999, 102]"
      ]
     },
     "execution_count": 4,
     "metadata": {},
     "output_type": "execute_result"
    }
   ],
   "source": [
    "input_ids"
   ]
  },
  {
   "cell_type": "code",
   "execution_count": 5,
   "id": "1b59762b",
   "metadata": {},
   "outputs": [
    {
     "data": {
      "text/plain": [
       "[0, 0, 0, 0, 0, 0, 0]"
      ]
     },
     "execution_count": 5,
     "metadata": {},
     "output_type": "execute_result"
    }
   ],
   "source": [
    "token_type_ids"
   ]
  },
  {
   "cell_type": "code",
   "execution_count": 15,
   "id": "0f5ee5cb",
   "metadata": {},
   "outputs": [],
   "source": [
    "sent1 = \"It is an excellent day for a picnic!\"\n",
    "sent2 = \"In a day like this, I want to go for a picnic!\"\n",
    "inputs = tokenizer.encode_plus(sent1, sent2, add_special_tokens=True, max_length=MAX_LEN, truncation=True)\n",
    "input_ids, token_type_ids = inputs[\"input_ids\"], inputs[\"token_type_ids\"]"
   ]
  },
  {
   "cell_type": "code",
   "execution_count": null,
   "id": "ac717e82",
   "metadata": {},
   "outputs": [],
   "source": [
    "def preprocess_function(examples):\n",
    "    return tokenizer(examples[\"text\"], truncation=True)"
   ]
  },
  {
   "cell_type": "code",
   "execution_count": 5,
   "id": "03ba5a38",
   "metadata": {},
   "outputs": [
    {
     "data": {
      "text/plain": [
       "DatasetDict({\n",
       "    train: Dataset({\n",
       "        features: ['text', 'label'],\n",
       "        num_rows: 25000\n",
       "    })\n",
       "    test: Dataset({\n",
       "        features: ['text', 'label'],\n",
       "        num_rows: 25000\n",
       "    })\n",
       "    unsupervised: Dataset({\n",
       "        features: ['text', 'label'],\n",
       "        num_rows: 50000\n",
       "    })\n",
       "})"
      ]
     },
     "execution_count": 5,
     "metadata": {},
     "output_type": "execute_result"
    }
   ],
   "source": [
    "imdb"
   ]
  },
  {
   "cell_type": "code",
   "execution_count": 21,
   "id": "7b18f317",
   "metadata": {},
   "outputs": [],
   "source": [
    "imdb_datadict = DatasetDict({\n",
    "    'train': imdb_train,\n",
    "    'val': imdb_val,\n",
    "    'test': imdb['test']\n",
    "})"
   ]
  },
  {
   "cell_type": "code",
   "execution_count": 22,
   "id": "b2dc3d95",
   "metadata": {},
   "outputs": [],
   "source": [
    "class MyDataModule(pl.LightningDataModule):\n",
    "    def __init__(self, batch_size: int = 32):\n",
    "        super().__init__()\n",
    "        self.batch_size = batch_size\n",
    "    \n",
    "    def train_dataloader(self):\n",
    "        return DataLoader(imdb['train'].map(preprocessor), # dataset\n",
    "                          sampler=RandomSampler(imdb['train']), # random sampler\n",
    "                          batch_size=batch_size)\n",
    "\n",
    "    #def val_dataloader(self):\n",
    "    #    return DataLoader(imdb_datadict['val'].map(preprocessor),\n",
    "    #                      sampler=SequentialSampler(imdb_datadict['val']),\n",
    "    #                      batch_size=batch_size)\n",
    "\n",
    "    def test_dataloader(self):\n",
    "        return DataLoader(imdb['test'].map(preprocessor),\n",
    "                          sampler=SequentialSampler(imdb['test']),\n",
    "                          batch_size=batch_size)\n",
    "    \n",
    "    #def predict_dataloader(self):\n",
    "    #    pass\n"
   ]
  },
  {
   "cell_type": "code",
   "execution_count": null,
   "id": "8bd2198d",
   "metadata": {},
   "outputs": [],
   "source": [
    "class Model(pl.LightningModule):\n",
    "    \n",
    "    def __init__(self):\n",
    "        super(Model, self).__init__()\n",
    "        model = BertForSequenceClassification.from_pretrained(\"bert-base-uncased\", num_labels=NUM_LABELS)\n",
    "        self.model = model\n",
    "\n",
    "    def configure_optimizers(self):\n",
    "        param_optimizer = list(self.model.named_parameters())\n",
    "        no_decay = [\"bias\", \"gamma\", \"beta\"]\n",
    "        optimizer_grouped_parameters = [\n",
    "            {\n",
    "                \"params\": [p for n, p in param_optimizer if not any(nd in n for nd in no_decay)],\n",
    "                \"weight_decay_rate\": 0.01\n",
    "            },\n",
    "            {\n",
    "                \"params\": [p for n, p in param_optimizer if any(nd in n for nd in no_decay)],\n",
    "                \"weight_decay_rate\": 0.0\n",
    "            },\n",
    "        ]\n",
    "        optimizer = AdamW(optimizer_grouped_parameters, lr=2e-5)\n",
    "        return optimizer\n",
    "\n",
    "    def _common_step(self, batch, batch_idx):\n",
    "        labels = batch[\"label\"]\n",
    "        input_ids = batch[\"input_ids\"]\n",
    "        attention_mask = batch[\"attention_mask\"]\n",
    "        token_type_ids = batch[\"token_type_ids\"]\n",
    "        \n",
    "        loss, logits = self.model(input_ids, \n",
    "                                  token_type_ids=token_type_ids, \n",
    "                                  attention_mask=attention_mask, \n",
    "                                  labels=labels)\n",
    "        return loss, logits\n",
    "        \n",
    "    def training_step(self, batch, batch_idx):\n",
    "        loss, logits = self._common_step(batch, batch_idx)\n",
    "\n",
    "        tqdm_dict = {\"train_loss\": loss}\n",
    "        output = OrderedDict({ \"loss\": loss, \"progress_bar\": tqdm_dict, \"log\": tqdm_dict })\n",
    "\n",
    "        return output\n",
    "\n",
    "    #def validation_step(self, batch, batch_idx):\n",
    "    #    loss, logits = self._common_step(batch, batch_idx)        \n",
    "    #    labels_hat = torch.argmax(logits, dim=1)\n",
    "    #    correct_count = torch.sum(labels == labels_hat)\n",
    "    #    if self.on_gpu:\n",
    "    #        correct_count = correct_count.cuda(loss.device.index)\n",
    "    #    output = OrderedDict({ \"val_loss\": loss, \"correct_count\": correct_count, \"batch_size\": len(labels) })\n",
    "    #    return output\n",
    "\n",
    "    #def validation_end(self, outputs):\n",
    "    #    val_acc = sum([out[\"correct_count\"] for out in outputs]).float() / sum(out[\"batch_size\"] for out in outputs)\n",
    "    #    val_loss = sum([out[\"val_loss\"] for out in outputs]) / len(outputs)\n",
    "    #    tqdm_dict = { \"val_loss\": val_loss, \"val_acc\": val_acc, }\n",
    "    #    result = {\"progress_bar\": tqdm_dict, \"log\": tqdm_dict, \"val_loss\": val_loss}\n",
    "    #    return result\n",
    "\n",
    "    def test_step(self, batch, batch_idx):\n",
    "        loss, logits = self._common_step(batch, batch_idx)\n",
    "\n",
    "        labels_hat = torch.argmax(logits, dim=1)\n",
    "        correct_count = torch.sum(labels == labels_hat)\n",
    "        \n",
    "        #if self.on_gpu:\n",
    "        #    correct_count = correct_count.cuda(loss.device.index)\n",
    "        output = OrderedDict({ \"test_loss\": loss, \"correct_count\": correct_count, \"batch_size\": len(labels) })\n",
    "        return output\n",
    "\n",
    "    def test_end(self, outputs):\n",
    "        test_acc = sum([out[\"correct_count\"] for out in outputs]).float() / sum(out[\"batch_size\"] for out in outputs)\n",
    "        test_loss = sum([out[\"test_loss\"] for out in outputs]) / len(outputs)\n",
    "        tqdm_dict = { \"test_loss\": test_loss, \"test_acc\": test_acc, }\n",
    "        result = {\"progress_bar\": tqdm_dict, \"log\": tqdm_dict}\n",
    "        return result\n",
    "    \n"
   ]
  },
  {
   "cell_type": "code",
   "execution_count": null,
   "id": "4696c921",
   "metadata": {},
   "outputs": [],
   "source": []
  }
 ],
 "metadata": {
  "kernelspec": {
   "display_name": "Python 3 (ipykernel)",
   "language": "python",
   "name": "python3"
  },
  "language_info": {
   "codemirror_mode": {
    "name": "ipython",
    "version": 3
   },
   "file_extension": ".py",
   "mimetype": "text/x-python",
   "name": "python",
   "nbconvert_exporter": "python",
   "pygments_lexer": "ipython3",
   "version": "3.10.4"
  }
 },
 "nbformat": 4,
 "nbformat_minor": 5
}
